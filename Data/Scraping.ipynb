{
 "cells": [
  {
   "cell_type": "code",
   "id": "initial_id",
   "metadata": {
    "collapsed": true,
    "ExecuteTime": {
     "end_time": "2025-06-28T19:45:36.171882Z",
     "start_time": "2025-06-28T19:45:35.776807Z"
    }
   },
   "source": [
    "import requests\n",
    "\n",
    "base_url_standings = \"https://www.hockey-reference.com/teams/\"\n",
    "standings_data = requests.get(base_url_standings)"
   ],
   "outputs": [],
   "execution_count": 28
  },
  {
   "metadata": {
    "ExecuteTime": {
     "end_time": "2025-06-28T21:22:30.817784Z",
     "start_time": "2025-06-28T21:22:30.736881Z"
    }
   },
   "cell_type": "code",
   "source": [
    "from bs4 import BeautifulSoup   # For Web Scraping\n",
    "# Turn into function\n",
    "\n",
    "soup = BeautifulSoup(standings_data.text) # get HTML\n",
    "teams_table = soup.select('table.stats_table')[0]  # Get teams table\n",
    "a_tags = teams_table.find_all('a')              # get a_tags\n",
    "href = [t.get(\"href\") for t in a_tags]          # get href\n",
    "team_acr = [link.split('/')[2] for link in href]  # extract team acronyms\n",
    "\n"
   ],
   "id": "d99cd5885017b3f4",
   "outputs": [],
   "execution_count": 42
  },
  {
   "metadata": {
    "ExecuteTime": {
     "end_time": "2025-06-28T21:22:31.943673Z",
     "start_time": "2025-06-28T21:22:31.935509Z"
    }
   },
   "cell_type": "code",
   "source": "seasons = ['2020', '2021', '2022', '2023', '2024']",
   "id": "a6f4ba37a91fb3c5",
   "outputs": [],
   "execution_count": 43
  },
  {
   "metadata": {
    "ExecuteTime": {
     "end_time": "2025-06-28T21:27:35.990222Z",
     "start_time": "2025-06-28T21:27:35.980166Z"
    }
   },
   "cell_type": "code",
   "source": [
    "def get_teams_schedules(season, team_acr):\n",
    "    schedules_links = []\n",
    "    schedules_links = [f\"https://www.hockey-reference.com/teams/{team}/{season}_games.html\" for team in team_acr] #links to schedules for each team\n",
    "    return schedules_links"
   ],
   "id": "47122c18fe34f313",
   "outputs": [],
   "execution_count": 44
  },
  {
   "metadata": {
    "ExecuteTime": {
     "end_time": "2025-06-28T21:28:13.443463Z",
     "start_time": "2025-06-28T21:28:13.432294Z"
    }
   },
   "cell_type": "code",
   "source": "",
   "id": "65bc1361bb69d91f",
   "outputs": [],
   "execution_count": null
  },
  {
   "metadata": {},
   "cell_type": "code",
   "outputs": [],
   "execution_count": null,
   "source": "",
   "id": "7163ab63d362530c"
  }
 ],
 "metadata": {
  "kernelspec": {
   "display_name": "Python 3",
   "language": "python",
   "name": "python3"
  },
  "language_info": {
   "codemirror_mode": {
    "name": "ipython",
    "version": 2
   },
   "file_extension": ".py",
   "mimetype": "text/x-python",
   "name": "python",
   "nbconvert_exporter": "python",
   "pygments_lexer": "ipython2",
   "version": "2.7.6"
  }
 },
 "nbformat": 4,
 "nbformat_minor": 5
}
