{
 "cells": [
  {
   "metadata": {
    "ExecuteTime": {
     "end_time": "2025-07-01T20:13:55.042990Z",
     "start_time": "2025-07-01T20:13:55.039731Z"
    }
   },
   "cell_type": "code",
   "source": [
    "import requests\n",
    "\n",
    "seasons = [str(s) for s in range(2022,2026)]\n"
   ],
   "id": "f529c2cd86bb2f36",
   "outputs": [],
   "execution_count": 166
  },
  {
   "metadata": {
    "ExecuteTime": {
     "end_time": "2025-07-01T20:13:55.649316Z",
     "start_time": "2025-07-01T20:13:55.644771Z"
    }
   },
   "cell_type": "code",
   "source": [
    "base_url = \"https://www.hockey-reference.com\"\n",
    "schedule_links = [f\"{base_url}/leagues/NHL_{season}_games.html\" for season in seasons]\n"
   ],
   "id": "72503d46383a8e11",
   "outputs": [],
   "execution_count": 167
  },
  {
   "metadata": {
    "ExecuteTime": {
     "end_time": "2025-07-01T20:13:58.414756Z",
     "start_time": "2025-07-01T20:13:56.118344Z"
    }
   },
   "cell_type": "code",
   "source": [
    "import pandas as pd\n",
    "from pandas.errors import SettingWithCopyWarning\n",
    "import warnings\n",
    "warnings.filterwarnings(\"ignore\", category=SettingWithCopyWarning)\n",
    "from io import StringIO\n",
    "from bs4 import BeautifulSoup\n",
    "\n",
    "all_games = []\n",
    "all_box_scores_links = []\n",
    "for season in schedule_links:\n",
    "    data = requests.get(season)   # gets html page for a season\n",
    "    soup = BeautifulSoup(data.text)\n",
    "    data = StringIO(data.text)    # Turn raw HTML into file-like object\n",
    "    games = pd.read_html(data, match='NHL Regular Season Schedule')\n",
    "    games = games[0]              # Dataframe\n",
    "    all_games.append(games)\n",
    "    box_scores_links = [l.get(\"href\") for l in soup.find_all(\"a\")]  # getting all href links\n",
    "    box_scores_links = [f\"{base_url}{l}\" for l in box_scores_links if l and \"boxscores/\" in l]   # getting links to all box scores\n",
    "    del box_scores_links[0]   # deleting link to overall box scores\n",
    "    all_box_scores_links.extend(box_scores_links)\n",
    "\n",
    "games = pd.concat(all_games)"
   ],
   "id": "a4aa6396c7056bc3",
   "outputs": [],
   "execution_count": 168
  },
  {
   "metadata": {
    "ExecuteTime": {
     "end_time": "2025-07-01T20:13:59.197360Z",
     "start_time": "2025-07-01T20:13:59.192827Z"
    }
   },
   "cell_type": "code",
   "source": [
    "games = games.drop(['LOG', 'Unnamed: 6', 'Notes'], axis=1)    # dropping non-relevant columns\n",
    "games['Home Team Win'] = games['Home'] > games['Visitor']     # creating win column\n",
    "games['Home Team Win'] = games['Home Team Win'].astype(int)   # Converting all True/False to 1/0"
   ],
   "id": "27aad27941fc94aa",
   "outputs": [],
   "execution_count": 169
  },
  {
   "metadata": {
    "ExecuteTime": {
     "end_time": "2025-07-01T20:14:00.010975Z",
     "start_time": "2025-07-01T20:14:00.005216Z"
    }
   },
   "cell_type": "code",
   "source": "games",
   "id": "c61852da46e3096d",
   "outputs": [
    {
     "data": {
      "text/plain": [
       "            Date      Time              Visitor  G                  Home  G.1  \\\n",
       "0     2021-10-12   7:30 PM  Pittsburgh Penguins  6   Tampa Bay Lightning    2   \n",
       "1     2021-10-12  10:00 PM       Seattle Kraken  3  Vegas Golden Knights    4   \n",
       "2     2021-10-13  10:00 PM        Winnipeg Jets  1         Anaheim Ducks    4   \n",
       "3     2021-10-13  10:00 PM   Chicago Blackhawks  2    Colorado Avalanche    4   \n",
       "4     2021-10-13  10:00 PM    Vancouver Canucks  2       Edmonton Oilers    3   \n",
       "...          ...       ...                  ... ..                   ...  ...   \n",
       "1307  2025-04-17   9:30 PM       Calgary Flames  5     Los Angeles Kings    1   \n",
       "1308  2025-04-17   7:00 PM  Tampa Bay Lightning  0      New York Rangers    4   \n",
       "1309  2025-04-17   7:00 PM  Carolina Hurricanes  5       Ottawa Senators    7   \n",
       "1310  2025-04-17   7:00 PM  Washington Capitals  2   Pittsburgh Penguins    5   \n",
       "1311  2025-04-17   7:00 PM    Detroit Red Wings  3   Toronto Maple Leafs    4   \n",
       "\n",
       "         Att.  Home Team Win  \n",
       "0     19092.0              1  \n",
       "1     18431.0              1  \n",
       "2     16260.0              0  \n",
       "3     18037.0              1  \n",
       "4     16034.0              0  \n",
       "...       ...            ...  \n",
       "1307  18145.0              1  \n",
       "1308  18006.0              0  \n",
       "1309  16193.0              1  \n",
       "1310  18348.0              0  \n",
       "1311  18605.0              1  \n",
       "\n",
       "[5248 rows x 8 columns]"
      ],
      "text/html": [
       "<div>\n",
       "<style scoped>\n",
       "    .dataframe tbody tr th:only-of-type {\n",
       "        vertical-align: middle;\n",
       "    }\n",
       "\n",
       "    .dataframe tbody tr th {\n",
       "        vertical-align: top;\n",
       "    }\n",
       "\n",
       "    .dataframe thead th {\n",
       "        text-align: right;\n",
       "    }\n",
       "</style>\n",
       "<table border=\"1\" class=\"dataframe\">\n",
       "  <thead>\n",
       "    <tr style=\"text-align: right;\">\n",
       "      <th></th>\n",
       "      <th>Date</th>\n",
       "      <th>Time</th>\n",
       "      <th>Visitor</th>\n",
       "      <th>G</th>\n",
       "      <th>Home</th>\n",
       "      <th>G.1</th>\n",
       "      <th>Att.</th>\n",
       "      <th>Home Team Win</th>\n",
       "    </tr>\n",
       "  </thead>\n",
       "  <tbody>\n",
       "    <tr>\n",
       "      <th>0</th>\n",
       "      <td>2021-10-12</td>\n",
       "      <td>7:30 PM</td>\n",
       "      <td>Pittsburgh Penguins</td>\n",
       "      <td>6</td>\n",
       "      <td>Tampa Bay Lightning</td>\n",
       "      <td>2</td>\n",
       "      <td>19092.0</td>\n",
       "      <td>1</td>\n",
       "    </tr>\n",
       "    <tr>\n",
       "      <th>1</th>\n",
       "      <td>2021-10-12</td>\n",
       "      <td>10:00 PM</td>\n",
       "      <td>Seattle Kraken</td>\n",
       "      <td>3</td>\n",
       "      <td>Vegas Golden Knights</td>\n",
       "      <td>4</td>\n",
       "      <td>18431.0</td>\n",
       "      <td>1</td>\n",
       "    </tr>\n",
       "    <tr>\n",
       "      <th>2</th>\n",
       "      <td>2021-10-13</td>\n",
       "      <td>10:00 PM</td>\n",
       "      <td>Winnipeg Jets</td>\n",
       "      <td>1</td>\n",
       "      <td>Anaheim Ducks</td>\n",
       "      <td>4</td>\n",
       "      <td>16260.0</td>\n",
       "      <td>0</td>\n",
       "    </tr>\n",
       "    <tr>\n",
       "      <th>3</th>\n",
       "      <td>2021-10-13</td>\n",
       "      <td>10:00 PM</td>\n",
       "      <td>Chicago Blackhawks</td>\n",
       "      <td>2</td>\n",
       "      <td>Colorado Avalanche</td>\n",
       "      <td>4</td>\n",
       "      <td>18037.0</td>\n",
       "      <td>1</td>\n",
       "    </tr>\n",
       "    <tr>\n",
       "      <th>4</th>\n",
       "      <td>2021-10-13</td>\n",
       "      <td>10:00 PM</td>\n",
       "      <td>Vancouver Canucks</td>\n",
       "      <td>2</td>\n",
       "      <td>Edmonton Oilers</td>\n",
       "      <td>3</td>\n",
       "      <td>16034.0</td>\n",
       "      <td>0</td>\n",
       "    </tr>\n",
       "    <tr>\n",
       "      <th>...</th>\n",
       "      <td>...</td>\n",
       "      <td>...</td>\n",
       "      <td>...</td>\n",
       "      <td>...</td>\n",
       "      <td>...</td>\n",
       "      <td>...</td>\n",
       "      <td>...</td>\n",
       "      <td>...</td>\n",
       "    </tr>\n",
       "    <tr>\n",
       "      <th>1307</th>\n",
       "      <td>2025-04-17</td>\n",
       "      <td>9:30 PM</td>\n",
       "      <td>Calgary Flames</td>\n",
       "      <td>5</td>\n",
       "      <td>Los Angeles Kings</td>\n",
       "      <td>1</td>\n",
       "      <td>18145.0</td>\n",
       "      <td>1</td>\n",
       "    </tr>\n",
       "    <tr>\n",
       "      <th>1308</th>\n",
       "      <td>2025-04-17</td>\n",
       "      <td>7:00 PM</td>\n",
       "      <td>Tampa Bay Lightning</td>\n",
       "      <td>0</td>\n",
       "      <td>New York Rangers</td>\n",
       "      <td>4</td>\n",
       "      <td>18006.0</td>\n",
       "      <td>0</td>\n",
       "    </tr>\n",
       "    <tr>\n",
       "      <th>1309</th>\n",
       "      <td>2025-04-17</td>\n",
       "      <td>7:00 PM</td>\n",
       "      <td>Carolina Hurricanes</td>\n",
       "      <td>5</td>\n",
       "      <td>Ottawa Senators</td>\n",
       "      <td>7</td>\n",
       "      <td>16193.0</td>\n",
       "      <td>1</td>\n",
       "    </tr>\n",
       "    <tr>\n",
       "      <th>1310</th>\n",
       "      <td>2025-04-17</td>\n",
       "      <td>7:00 PM</td>\n",
       "      <td>Washington Capitals</td>\n",
       "      <td>2</td>\n",
       "      <td>Pittsburgh Penguins</td>\n",
       "      <td>5</td>\n",
       "      <td>18348.0</td>\n",
       "      <td>0</td>\n",
       "    </tr>\n",
       "    <tr>\n",
       "      <th>1311</th>\n",
       "      <td>2025-04-17</td>\n",
       "      <td>7:00 PM</td>\n",
       "      <td>Detroit Red Wings</td>\n",
       "      <td>3</td>\n",
       "      <td>Toronto Maple Leafs</td>\n",
       "      <td>4</td>\n",
       "      <td>18605.0</td>\n",
       "      <td>1</td>\n",
       "    </tr>\n",
       "  </tbody>\n",
       "</table>\n",
       "<p>5248 rows × 8 columns</p>\n",
       "</div>"
      ]
     },
     "execution_count": 170,
     "metadata": {},
     "output_type": "execute_result"
    }
   ],
   "execution_count": 170
  },
  {
   "metadata": {
    "ExecuteTime": {
     "end_time": "2025-07-01T20:14:01.540105Z",
     "start_time": "2025-07-01T20:14:01.536021Z"
    }
   },
   "cell_type": "code",
   "source": [
    "#all_box_scores_links\n",
    "len(all_box_scores_links)"
   ],
   "id": "fb334482d873f24c",
   "outputs": [
    {
     "data": {
      "text/plain": [
       "5619"
      ]
     },
     "execution_count": 171,
     "metadata": {},
     "output_type": "execute_result"
    }
   ],
   "execution_count": 171
  },
  {
   "metadata": {
    "ExecuteTime": {
     "end_time": "2025-07-01T20:14:02.620214Z",
     "start_time": "2025-07-01T20:14:02.617839Z"
    }
   },
   "cell_type": "code",
   "source": [
    "#for link in all_box_scores_links:\n",
    "#    data = requests.get(link)\n",
    "#    goalie_stats = pd.read_html(data.text, match='Goalies Table')\n",
    "\n",
    "\n",
    "#link = all_box_scores_links[0]\n",
    "#data = requests.get(link)\n",
    "#data = StringIO(data.text)\n",
    "#v_goalie_stats = pd.read_html(data, match='Goalies Table')[0]   # visitor team's goalie stats\n",
    "#h_goalie_stats = pd.read_html(data, match='Goalies Table')[1]   # home team's goalie stats\n",
    "\n",
    "\n"
   ],
   "id": "b4ac489995e1b8e0",
   "outputs": [],
   "execution_count": 172
  },
  {
   "metadata": {
    "ExecuteTime": {
     "end_time": "2025-07-01T20:20:51.567887Z",
     "start_time": "2025-07-01T20:20:51.400250Z"
    }
   },
   "cell_type": "code",
   "source": [
    "link = all_box_scores_links[0]\n",
    "data = requests.get(link)\n",
    "data = StringIO(data.text)\n",
    "v_stats_table = pd.read_html(data, header=1)[2].iloc[[-1]]   # Visitor team stats\n",
    "h_stats_table = pd.read_html(data, header=1)[4].iloc[[-1]]   # Home team stats\n",
    "\n",
    "\n",
    "final_v_stats_table = v_stats_table[['PIM', 'S', 'S%']]\n",
    "final_h_stats_table = h_stats_table[['PIM', 'S', 'S%']]\n",
    "\n",
    "final_v_stats_table.rename(columns={'PIM' : 'Visitors PIM', 'S' : 'Visitors S', 'S%' : 'Visitors S%'}, inplace=True)\n",
    "final_h_stats_table.rename(columns={'PIM' : 'Home PIM', 'S' : 'Home S', 'S%' : 'Home S%'}, inplace=True)\n",
    "\n",
    "final_game_stats = pd.concat([final_v_stats_table, final_h_stats_table], axis=1)\n",
    "\n",
    "\n",
    "#final_h_stats_table.rename(columns={'Unnamed: 6_level_0': 'Penalty Minutes', 'Unnamed: 14_level_0': 'SG', 'Unnamed: 15_level_0' : 'S%'}, inplace=True)\n",
    "#final_h_stats_table\n",
    "\n",
    "\n",
    "\n"
   ],
   "id": "2708d2fa6ec5fa87",
   "outputs": [
    {
     "data": {
      "text/plain": [
       "    Visitors PIM  Visitors S  Visitors S%  Home PIM  Home S  Home S%\n",
       "19             2          35         17.1         2      28      7.1"
      ],
      "text/html": [
       "<div>\n",
       "<style scoped>\n",
       "    .dataframe tbody tr th:only-of-type {\n",
       "        vertical-align: middle;\n",
       "    }\n",
       "\n",
       "    .dataframe tbody tr th {\n",
       "        vertical-align: top;\n",
       "    }\n",
       "\n",
       "    .dataframe thead th {\n",
       "        text-align: right;\n",
       "    }\n",
       "</style>\n",
       "<table border=\"1\" class=\"dataframe\">\n",
       "  <thead>\n",
       "    <tr style=\"text-align: right;\">\n",
       "      <th></th>\n",
       "      <th>Visitors PIM</th>\n",
       "      <th>Visitors S</th>\n",
       "      <th>Visitors S%</th>\n",
       "      <th>Home PIM</th>\n",
       "      <th>Home S</th>\n",
       "      <th>Home S%</th>\n",
       "    </tr>\n",
       "  </thead>\n",
       "  <tbody>\n",
       "    <tr>\n",
       "      <th>19</th>\n",
       "      <td>2</td>\n",
       "      <td>35</td>\n",
       "      <td>17.1</td>\n",
       "      <td>2</td>\n",
       "      <td>28</td>\n",
       "      <td>7.1</td>\n",
       "    </tr>\n",
       "  </tbody>\n",
       "</table>\n",
       "</div>"
      ]
     },
     "execution_count": 179,
     "metadata": {},
     "output_type": "execute_result"
    }
   ],
   "execution_count": 179
  },
  {
   "metadata": {},
   "cell_type": "code",
   "outputs": [],
   "execution_count": null,
   "source": "",
   "id": "d84cb654764a81b"
  }
 ],
 "metadata": {
  "kernelspec": {
   "display_name": "Python 3",
   "language": "python",
   "name": "python3"
  },
  "language_info": {
   "codemirror_mode": {
    "name": "ipython",
    "version": 2
   },
   "file_extension": ".py",
   "mimetype": "text/x-python",
   "name": "python",
   "nbconvert_exporter": "python",
   "pygments_lexer": "ipython2",
   "version": "2.7.6"
  }
 },
 "nbformat": 4,
 "nbformat_minor": 5
}
