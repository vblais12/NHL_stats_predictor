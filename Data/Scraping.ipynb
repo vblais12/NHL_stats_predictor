{
 "cells": [
  {
   "metadata": {
    "ExecuteTime": {
     "end_time": "2025-07-02T21:32:43.582455Z",
     "start_time": "2025-07-02T21:32:43.553965Z"
    }
   },
   "cell_type": "code",
   "source": [
    "import os\n",
    "\n",
    "CACHE_DIR = \"html_cache\"\n",
    "os.makedirs(CACHE_DIR, exist_ok=False)"
   ],
   "id": "f980f21d96409ff4",
   "outputs": [
    {
     "ename": "FileExistsError",
     "evalue": "[WinError 183] Cannot create a file when that file already exists: 'html_cache'",
     "output_type": "error",
     "traceback": [
      "\u001B[31m---------------------------------------------------------------------------\u001B[39m",
      "\u001B[31mFileExistsError\u001B[39m                           Traceback (most recent call last)",
      "\u001B[36mCell\u001B[39m\u001B[36m \u001B[39m\u001B[32mIn[19]\u001B[39m\u001B[32m, line 4\u001B[39m\n\u001B[32m      1\u001B[39m \u001B[38;5;28;01mimport\u001B[39;00m\u001B[38;5;250m \u001B[39m\u001B[34;01mos\u001B[39;00m\n\u001B[32m      3\u001B[39m CACHE_DIR = \u001B[33m\"\u001B[39m\u001B[33mhtml_cache\u001B[39m\u001B[33m\"\u001B[39m\n\u001B[32m----> \u001B[39m\u001B[32m4\u001B[39m \u001B[43mos\u001B[49m\u001B[43m.\u001B[49m\u001B[43mmakedirs\u001B[49m\u001B[43m(\u001B[49m\u001B[43mCACHE_DIR\u001B[49m\u001B[43m,\u001B[49m\u001B[43m \u001B[49m\u001B[43mexist_ok\u001B[49m\u001B[43m=\u001B[49m\u001B[38;5;28;43;01mFalse\u001B[39;49;00m\u001B[43m)\u001B[49m\n",
      "\u001B[36mFile \u001B[39m\u001B[32m<frozen os>:225\u001B[39m, in \u001B[36mmakedirs\u001B[39m\u001B[34m(name, mode, exist_ok)\u001B[39m\n",
      "\u001B[31mFileExistsError\u001B[39m: [WinError 183] Cannot create a file when that file already exists: 'html_cache'"
     ]
    }
   ],
   "execution_count": 19
  },
  {
   "metadata": {
    "ExecuteTime": {
     "end_time": "2025-07-02T21:32:53.279305Z",
     "start_time": "2025-07-02T21:32:53.271219Z"
    }
   },
   "cell_type": "code",
   "source": [
    "import requests\n",
    "\n",
    "seasons = [str(s) for s in range(2022,2026)]\n"
   ],
   "id": "f529c2cd86bb2f36",
   "outputs": [],
   "execution_count": 20
  },
  {
   "metadata": {
    "ExecuteTime": {
     "end_time": "2025-07-02T21:55:05.211325Z",
     "start_time": "2025-07-02T21:55:05.201834Z"
    }
   },
   "cell_type": "code",
   "source": [
    "base_url = \"https://www.hockey-reference.com\"\n",
    "schedule_links = [f\"{base_url}/leagues/NHL_{season}_games.html\" for season in seasons]\n",
    "\n",
    "headers = {\n",
    "    \"User-Agent\": \"Mozilla/5.0 (Windows NT 10.0; Win64; x64) AppleWebKit/537.36 (KHTML, like Gecko) Chrome/138.0.0.0 Safari/537.36 Edg/138.0.0.0\",\n",
    "    \"Accept-Language\": \"en-US,en;q=0.9\",\n",
    "    \"Referer\": \"https://www.google.com/\"\n",
    "}\n",
    "\n",
    "\n",
    "# TODO: implement caching function for safe web-scraping\n",
    "\n",
    "# Takes URL --> file name for caching\n",
    "def url_to_file(url):\n",
    "    file = url.split('/')[-1]\n",
    "    return file\n",
    "\n",
    "# TODO: TEST FUNC\n",
    "def get_page(url, headers=None):\n",
    "\n",
    "    file = url_to_file(url)\n",
    "    filename = os.path.join(CACHE_DIR, file)\n",
    "\n",
    "    if os.path.exists(filename):\n",
    "        with open(filename, 'r', encoding='utf-8') as f:\n",
    "            return f.read()\n",
    "\n",
    "    print(f\"File not cached --> Fetching {url}...\")\n",
    "    page = requests.get(url, headers)\n",
    "    if page.status_code == '200':\n",
    "        print(f\"Succesfully fetched page, now caching...\")\n",
    "        with open(filename, 'w', encoding='utf-8') as f:\n",
    "            f.write(page.text)\n",
    "        return page.text\n",
    "    else:\n",
    "        print(f\"Couldn't download page. Status code: {page.status_code}\")\n",
    "        return None\n",
    "\n",
    "\n",
    "\n",
    "\n",
    "\n"
   ],
   "id": "72503d46383a8e11",
   "outputs": [],
   "execution_count": 25
  },
  {
   "metadata": {
    "ExecuteTime": {
     "end_time": "2025-07-02T21:35:42.112276Z",
     "start_time": "2025-07-02T21:35:42.104435Z"
    }
   },
   "cell_type": "code",
   "source": [
    "test_url = 'https://www.hockey-reference.com/leagues/NHL_2022_games.html'\n",
    "\n"
   ],
   "id": "d854882495f81b04",
   "outputs": [],
   "execution_count": 24
  },
  {
   "metadata": {
    "ExecuteTime": {
     "end_time": "2025-07-02T21:04:25.222283Z",
     "start_time": "2025-07-02T21:04:10.814646Z"
    }
   },
   "cell_type": "code",
   "source": [
    "import pandas as pd\n",
    "from pandas.errors import SettingWithCopyWarning\n",
    "import warnings\n",
    "warnings.filterwarnings(\"ignore\", category=SettingWithCopyWarning)\n",
    "from io import StringIO\n",
    "from bs4 import BeautifulSoup\n",
    "import time\n",
    "\n",
    "all_games = []\n",
    "all_box_scores_links = []\n",
    "for season in schedule_links:\n",
    "    data = requests.get(season, headers=headers)   # gets html page for a season\n",
    "    soup = BeautifulSoup(data.text)\n",
    "    data = StringIO(data.text)    # Turn raw HTML into file-like object\n",
    "    games = pd.read_html(data, match='NHL Regular Season Schedule')\n",
    "    games = games[0]              # Dataframe\n",
    "    all_games.append(games)\n",
    "    box_scores_table = soup.find(id='games')  # Get table for box scores links\n",
    "    box_scores_links = [l.get(\"href\") for l in box_scores_table.find_all(\"a\")]    # Get all links\n",
    "    box_scores_links = [f\"{base_url}{l}\" for l in box_scores_links if l and \"boxscores/\" in l]   # Get absolute URLs\n",
    "    all_box_scores_links.extend(box_scores_links)\n",
    "    time.sleep(3)\n",
    "\n",
    "games = pd.concat(all_games)"
   ],
   "id": "a4aa6396c7056bc3",
   "outputs": [],
   "execution_count": 7
  },
  {
   "metadata": {
    "ExecuteTime": {
     "end_time": "2025-07-02T21:04:28.295398Z",
     "start_time": "2025-07-02T21:04:28.285890Z"
    }
   },
   "cell_type": "code",
   "source": [
    "games = games.drop(['LOG', 'Unnamed: 6', 'Notes'], axis=1)    # dropping non-relevant columns\n",
    "games['Home Team Win'] = games['Home'] > games['Visitor']     # creating win column\n",
    "games['Home Team Win'] = games['Home Team Win'].astype(int)   # Converting all True/False to 1/0"
   ],
   "id": "27aad27941fc94aa",
   "outputs": [],
   "execution_count": 8
  },
  {
   "metadata": {
    "ExecuteTime": {
     "end_time": "2025-07-02T21:04:29.169675Z",
     "start_time": "2025-07-02T21:04:29.151225Z"
    }
   },
   "cell_type": "code",
   "source": "games",
   "id": "c61852da46e3096d",
   "outputs": [
    {
     "data": {
      "text/plain": [
       "            Date      Time              Visitor  G                  Home  G.1  \\\n",
       "0     2021-10-12   7:30 PM  Pittsburgh Penguins  6   Tampa Bay Lightning    2   \n",
       "1     2021-10-12  10:00 PM       Seattle Kraken  3  Vegas Golden Knights    4   \n",
       "2     2021-10-13  10:00 PM        Winnipeg Jets  1         Anaheim Ducks    4   \n",
       "3     2021-10-13  10:00 PM   Chicago Blackhawks  2    Colorado Avalanche    4   \n",
       "4     2021-10-13  10:00 PM    Vancouver Canucks  2       Edmonton Oilers    3   \n",
       "...          ...       ...                  ... ..                   ...  ...   \n",
       "1307  2025-04-17   9:30 PM       Calgary Flames  5     Los Angeles Kings    1   \n",
       "1308  2025-04-17   7:00 PM  Tampa Bay Lightning  0      New York Rangers    4   \n",
       "1309  2025-04-17   7:00 PM  Carolina Hurricanes  5       Ottawa Senators    7   \n",
       "1310  2025-04-17   7:00 PM  Washington Capitals  2   Pittsburgh Penguins    5   \n",
       "1311  2025-04-17   7:00 PM    Detroit Red Wings  3   Toronto Maple Leafs    4   \n",
       "\n",
       "         Att.  Home Team Win  \n",
       "0     19092.0              1  \n",
       "1     18431.0              1  \n",
       "2     16260.0              0  \n",
       "3     18037.0              1  \n",
       "4     16034.0              0  \n",
       "...       ...            ...  \n",
       "1307  18145.0              1  \n",
       "1308  18006.0              0  \n",
       "1309  16193.0              1  \n",
       "1310  18348.0              0  \n",
       "1311  18605.0              1  \n",
       "\n",
       "[5248 rows x 8 columns]"
      ],
      "text/html": [
       "<div>\n",
       "<style scoped>\n",
       "    .dataframe tbody tr th:only-of-type {\n",
       "        vertical-align: middle;\n",
       "    }\n",
       "\n",
       "    .dataframe tbody tr th {\n",
       "        vertical-align: top;\n",
       "    }\n",
       "\n",
       "    .dataframe thead th {\n",
       "        text-align: right;\n",
       "    }\n",
       "</style>\n",
       "<table border=\"1\" class=\"dataframe\">\n",
       "  <thead>\n",
       "    <tr style=\"text-align: right;\">\n",
       "      <th></th>\n",
       "      <th>Date</th>\n",
       "      <th>Time</th>\n",
       "      <th>Visitor</th>\n",
       "      <th>G</th>\n",
       "      <th>Home</th>\n",
       "      <th>G.1</th>\n",
       "      <th>Att.</th>\n",
       "      <th>Home Team Win</th>\n",
       "    </tr>\n",
       "  </thead>\n",
       "  <tbody>\n",
       "    <tr>\n",
       "      <th>0</th>\n",
       "      <td>2021-10-12</td>\n",
       "      <td>7:30 PM</td>\n",
       "      <td>Pittsburgh Penguins</td>\n",
       "      <td>6</td>\n",
       "      <td>Tampa Bay Lightning</td>\n",
       "      <td>2</td>\n",
       "      <td>19092.0</td>\n",
       "      <td>1</td>\n",
       "    </tr>\n",
       "    <tr>\n",
       "      <th>1</th>\n",
       "      <td>2021-10-12</td>\n",
       "      <td>10:00 PM</td>\n",
       "      <td>Seattle Kraken</td>\n",
       "      <td>3</td>\n",
       "      <td>Vegas Golden Knights</td>\n",
       "      <td>4</td>\n",
       "      <td>18431.0</td>\n",
       "      <td>1</td>\n",
       "    </tr>\n",
       "    <tr>\n",
       "      <th>2</th>\n",
       "      <td>2021-10-13</td>\n",
       "      <td>10:00 PM</td>\n",
       "      <td>Winnipeg Jets</td>\n",
       "      <td>1</td>\n",
       "      <td>Anaheim Ducks</td>\n",
       "      <td>4</td>\n",
       "      <td>16260.0</td>\n",
       "      <td>0</td>\n",
       "    </tr>\n",
       "    <tr>\n",
       "      <th>3</th>\n",
       "      <td>2021-10-13</td>\n",
       "      <td>10:00 PM</td>\n",
       "      <td>Chicago Blackhawks</td>\n",
       "      <td>2</td>\n",
       "      <td>Colorado Avalanche</td>\n",
       "      <td>4</td>\n",
       "      <td>18037.0</td>\n",
       "      <td>1</td>\n",
       "    </tr>\n",
       "    <tr>\n",
       "      <th>4</th>\n",
       "      <td>2021-10-13</td>\n",
       "      <td>10:00 PM</td>\n",
       "      <td>Vancouver Canucks</td>\n",
       "      <td>2</td>\n",
       "      <td>Edmonton Oilers</td>\n",
       "      <td>3</td>\n",
       "      <td>16034.0</td>\n",
       "      <td>0</td>\n",
       "    </tr>\n",
       "    <tr>\n",
       "      <th>...</th>\n",
       "      <td>...</td>\n",
       "      <td>...</td>\n",
       "      <td>...</td>\n",
       "      <td>...</td>\n",
       "      <td>...</td>\n",
       "      <td>...</td>\n",
       "      <td>...</td>\n",
       "      <td>...</td>\n",
       "    </tr>\n",
       "    <tr>\n",
       "      <th>1307</th>\n",
       "      <td>2025-04-17</td>\n",
       "      <td>9:30 PM</td>\n",
       "      <td>Calgary Flames</td>\n",
       "      <td>5</td>\n",
       "      <td>Los Angeles Kings</td>\n",
       "      <td>1</td>\n",
       "      <td>18145.0</td>\n",
       "      <td>1</td>\n",
       "    </tr>\n",
       "    <tr>\n",
       "      <th>1308</th>\n",
       "      <td>2025-04-17</td>\n",
       "      <td>7:00 PM</td>\n",
       "      <td>Tampa Bay Lightning</td>\n",
       "      <td>0</td>\n",
       "      <td>New York Rangers</td>\n",
       "      <td>4</td>\n",
       "      <td>18006.0</td>\n",
       "      <td>0</td>\n",
       "    </tr>\n",
       "    <tr>\n",
       "      <th>1309</th>\n",
       "      <td>2025-04-17</td>\n",
       "      <td>7:00 PM</td>\n",
       "      <td>Carolina Hurricanes</td>\n",
       "      <td>5</td>\n",
       "      <td>Ottawa Senators</td>\n",
       "      <td>7</td>\n",
       "      <td>16193.0</td>\n",
       "      <td>1</td>\n",
       "    </tr>\n",
       "    <tr>\n",
       "      <th>1310</th>\n",
       "      <td>2025-04-17</td>\n",
       "      <td>7:00 PM</td>\n",
       "      <td>Washington Capitals</td>\n",
       "      <td>2</td>\n",
       "      <td>Pittsburgh Penguins</td>\n",
       "      <td>5</td>\n",
       "      <td>18348.0</td>\n",
       "      <td>0</td>\n",
       "    </tr>\n",
       "    <tr>\n",
       "      <th>1311</th>\n",
       "      <td>2025-04-17</td>\n",
       "      <td>7:00 PM</td>\n",
       "      <td>Detroit Red Wings</td>\n",
       "      <td>3</td>\n",
       "      <td>Toronto Maple Leafs</td>\n",
       "      <td>4</td>\n",
       "      <td>18605.0</td>\n",
       "      <td>1</td>\n",
       "    </tr>\n",
       "  </tbody>\n",
       "</table>\n",
       "<p>5248 rows × 8 columns</p>\n",
       "</div>"
      ]
     },
     "execution_count": 9,
     "metadata": {},
     "output_type": "execute_result"
    }
   ],
   "execution_count": 9
  },
  {
   "metadata": {
    "ExecuteTime": {
     "end_time": "2025-07-02T21:04:32.809521Z",
     "start_time": "2025-07-02T21:04:32.800810Z"
    }
   },
   "cell_type": "code",
   "source": [
    "#all_box_scores_links\n",
    "print(f\"Length of box_scores_links: {len(all_box_scores_links)}\")\n",
    "print(f\"Length of games: {len(games)}\")"
   ],
   "id": "fb334482d873f24c",
   "outputs": [
    {
     "name": "stdout",
     "output_type": "stream",
     "text": [
      "Length of box_scores_links: 5248\n",
      "Length of games: 5248\n"
     ]
    }
   ],
   "execution_count": 10
  },
  {
   "metadata": {
    "ExecuteTime": {
     "end_time": "2025-07-02T21:04:47.761417Z",
     "start_time": "2025-07-02T21:04:47.753079Z"
    }
   },
   "cell_type": "code",
   "source": "games.head()\n",
   "id": "70a3ccc0c0dbc1da",
   "outputs": [
    {
     "data": {
      "text/plain": [
       "         Date      Time              Visitor  G                  Home  G.1  \\\n",
       "0  2021-10-12   7:30 PM  Pittsburgh Penguins  6   Tampa Bay Lightning    2   \n",
       "1  2021-10-12  10:00 PM       Seattle Kraken  3  Vegas Golden Knights    4   \n",
       "2  2021-10-13  10:00 PM        Winnipeg Jets  1         Anaheim Ducks    4   \n",
       "3  2021-10-13  10:00 PM   Chicago Blackhawks  2    Colorado Avalanche    4   \n",
       "4  2021-10-13  10:00 PM    Vancouver Canucks  2       Edmonton Oilers    3   \n",
       "\n",
       "      Att.  Home Team Win  \n",
       "0  19092.0              1  \n",
       "1  18431.0              1  \n",
       "2  16260.0              0  \n",
       "3  18037.0              1  \n",
       "4  16034.0              0  "
      ],
      "text/html": [
       "<div>\n",
       "<style scoped>\n",
       "    .dataframe tbody tr th:only-of-type {\n",
       "        vertical-align: middle;\n",
       "    }\n",
       "\n",
       "    .dataframe tbody tr th {\n",
       "        vertical-align: top;\n",
       "    }\n",
       "\n",
       "    .dataframe thead th {\n",
       "        text-align: right;\n",
       "    }\n",
       "</style>\n",
       "<table border=\"1\" class=\"dataframe\">\n",
       "  <thead>\n",
       "    <tr style=\"text-align: right;\">\n",
       "      <th></th>\n",
       "      <th>Date</th>\n",
       "      <th>Time</th>\n",
       "      <th>Visitor</th>\n",
       "      <th>G</th>\n",
       "      <th>Home</th>\n",
       "      <th>G.1</th>\n",
       "      <th>Att.</th>\n",
       "      <th>Home Team Win</th>\n",
       "    </tr>\n",
       "  </thead>\n",
       "  <tbody>\n",
       "    <tr>\n",
       "      <th>0</th>\n",
       "      <td>2021-10-12</td>\n",
       "      <td>7:30 PM</td>\n",
       "      <td>Pittsburgh Penguins</td>\n",
       "      <td>6</td>\n",
       "      <td>Tampa Bay Lightning</td>\n",
       "      <td>2</td>\n",
       "      <td>19092.0</td>\n",
       "      <td>1</td>\n",
       "    </tr>\n",
       "    <tr>\n",
       "      <th>1</th>\n",
       "      <td>2021-10-12</td>\n",
       "      <td>10:00 PM</td>\n",
       "      <td>Seattle Kraken</td>\n",
       "      <td>3</td>\n",
       "      <td>Vegas Golden Knights</td>\n",
       "      <td>4</td>\n",
       "      <td>18431.0</td>\n",
       "      <td>1</td>\n",
       "    </tr>\n",
       "    <tr>\n",
       "      <th>2</th>\n",
       "      <td>2021-10-13</td>\n",
       "      <td>10:00 PM</td>\n",
       "      <td>Winnipeg Jets</td>\n",
       "      <td>1</td>\n",
       "      <td>Anaheim Ducks</td>\n",
       "      <td>4</td>\n",
       "      <td>16260.0</td>\n",
       "      <td>0</td>\n",
       "    </tr>\n",
       "    <tr>\n",
       "      <th>3</th>\n",
       "      <td>2021-10-13</td>\n",
       "      <td>10:00 PM</td>\n",
       "      <td>Chicago Blackhawks</td>\n",
       "      <td>2</td>\n",
       "      <td>Colorado Avalanche</td>\n",
       "      <td>4</td>\n",
       "      <td>18037.0</td>\n",
       "      <td>1</td>\n",
       "    </tr>\n",
       "    <tr>\n",
       "      <th>4</th>\n",
       "      <td>2021-10-13</td>\n",
       "      <td>10:00 PM</td>\n",
       "      <td>Vancouver Canucks</td>\n",
       "      <td>2</td>\n",
       "      <td>Edmonton Oilers</td>\n",
       "      <td>3</td>\n",
       "      <td>16034.0</td>\n",
       "      <td>0</td>\n",
       "    </tr>\n",
       "  </tbody>\n",
       "</table>\n",
       "</div>"
      ]
     },
     "execution_count": 12,
     "metadata": {},
     "output_type": "execute_result"
    }
   ],
   "execution_count": 12
  },
  {
   "metadata": {
    "ExecuteTime": {
     "end_time": "2025-07-02T21:15:31.682665Z",
     "start_time": "2025-07-02T21:15:31.292170Z"
    }
   },
   "cell_type": "code",
   "source": [
    "box_scores_stats = []\n",
    "\n",
    "for links in all_box_scores_links:\n",
    "    data = requests.get(links, headers=headers)\n",
    "    data = StringIO(data.text)\n",
    "    v_stats_table = pd.read_html(data, header=1)[2].iloc[[-1]]   # Visitor team stats\n",
    "    h_stats_table = pd.read_html(data, header=1)[4].iloc[[-1]]   # Home team stats\n",
    "\n",
    "    final_v_stats_table = v_stats_table[['PIM', 'S', 'S%']]\n",
    "    final_h_stats_table = h_stats_table[['PIM', 'S', 'S%']]\n",
    "\n",
    "    final_v_stats_table.rename(columns={'PIM' : 'Visitors PIM', 'S' : 'Visitors S', 'S%' : 'Visitors S%'}, inplace=True)\n",
    "    final_h_stats_table.rename(columns={'PIM' : 'Home PIM', 'S' : 'Home S', 'S%' : 'Home S%'}, inplace=True)\n",
    "\n",
    "    final_game_stats = pd.concat([final_v_stats_table, final_h_stats_table], axis=1)\n",
    "\n",
    "    box_scores_stats.append(final_game_stats)\n",
    "\n",
    "print(f\"Length of box_scores_stats: {len(box_scores_stats)}\")\n",
    "\n",
    "\n",
    "\n",
    "\n"
   ],
   "id": "2708d2fa6ec5fa87",
   "outputs": [
    {
     "ename": "ValueError",
     "evalue": "No tables found",
     "output_type": "error",
     "traceback": [
      "\u001B[31m---------------------------------------------------------------------------\u001B[39m",
      "\u001B[31mValueError\u001B[39m                                Traceback (most recent call last)",
      "\u001B[36mCell\u001B[39m\u001B[36m \u001B[39m\u001B[32mIn[16]\u001B[39m\u001B[32m, line 6\u001B[39m\n\u001B[32m      4\u001B[39m data = requests.get(links, headers=headers)\n\u001B[32m      5\u001B[39m data = StringIO(data.text)\n\u001B[32m----> \u001B[39m\u001B[32m6\u001B[39m v_stats_table = \u001B[43mpd\u001B[49m\u001B[43m.\u001B[49m\u001B[43mread_html\u001B[49m\u001B[43m(\u001B[49m\u001B[43mdata\u001B[49m\u001B[43m,\u001B[49m\u001B[43m \u001B[49m\u001B[43mheader\u001B[49m\u001B[43m=\u001B[49m\u001B[32;43m1\u001B[39;49m\u001B[43m)\u001B[49m[\u001B[32m2\u001B[39m].iloc[[-\u001B[32m1\u001B[39m]]   \u001B[38;5;66;03m# Visitor team stats\u001B[39;00m\n\u001B[32m      7\u001B[39m h_stats_table = pd.read_html(data, header=\u001B[32m1\u001B[39m)[\u001B[32m4\u001B[39m].iloc[[-\u001B[32m1\u001B[39m]]   \u001B[38;5;66;03m# Home team stats\u001B[39;00m\n\u001B[32m      9\u001B[39m final_v_stats_table = v_stats_table[[\u001B[33m'\u001B[39m\u001B[33mPIM\u001B[39m\u001B[33m'\u001B[39m, \u001B[33m'\u001B[39m\u001B[33mS\u001B[39m\u001B[33m'\u001B[39m, \u001B[33m'\u001B[39m\u001B[33mS\u001B[39m\u001B[33m%\u001B[39m\u001B[33m'\u001B[39m]]\n",
      "\u001B[36mFile \u001B[39m\u001B[32m~\\AppData\\Local\\Programs\\Python\\Python312\\Lib\\site-packages\\pandas\\io\\html.py:1240\u001B[39m, in \u001B[36mread_html\u001B[39m\u001B[34m(io, match, flavor, header, index_col, skiprows, attrs, parse_dates, thousands, encoding, decimal, converters, na_values, keep_default_na, displayed_only, extract_links, dtype_backend, storage_options)\u001B[39m\n\u001B[32m   1224\u001B[39m \u001B[38;5;28;01mif\u001B[39;00m \u001B[38;5;28misinstance\u001B[39m(io, \u001B[38;5;28mstr\u001B[39m) \u001B[38;5;129;01mand\u001B[39;00m \u001B[38;5;129;01mnot\u001B[39;00m \u001B[38;5;28many\u001B[39m(\n\u001B[32m   1225\u001B[39m     [\n\u001B[32m   1226\u001B[39m         is_file_like(io),\n\u001B[32m   (...)\u001B[39m\u001B[32m   1230\u001B[39m     ]\n\u001B[32m   1231\u001B[39m ):\n\u001B[32m   1232\u001B[39m     warnings.warn(\n\u001B[32m   1233\u001B[39m         \u001B[33m\"\u001B[39m\u001B[33mPassing literal html to \u001B[39m\u001B[33m'\u001B[39m\u001B[33mread_html\u001B[39m\u001B[33m'\u001B[39m\u001B[33m is deprecated and \u001B[39m\u001B[33m\"\u001B[39m\n\u001B[32m   1234\u001B[39m         \u001B[33m\"\u001B[39m\u001B[33mwill be removed in a future version. To read from a \u001B[39m\u001B[33m\"\u001B[39m\n\u001B[32m   (...)\u001B[39m\u001B[32m   1237\u001B[39m         stacklevel=find_stack_level(),\n\u001B[32m   1238\u001B[39m     )\n\u001B[32m-> \u001B[39m\u001B[32m1240\u001B[39m \u001B[38;5;28;01mreturn\u001B[39;00m \u001B[43m_parse\u001B[49m\u001B[43m(\u001B[49m\n\u001B[32m   1241\u001B[39m \u001B[43m    \u001B[49m\u001B[43mflavor\u001B[49m\u001B[43m=\u001B[49m\u001B[43mflavor\u001B[49m\u001B[43m,\u001B[49m\n\u001B[32m   1242\u001B[39m \u001B[43m    \u001B[49m\u001B[43mio\u001B[49m\u001B[43m=\u001B[49m\u001B[43mio\u001B[49m\u001B[43m,\u001B[49m\n\u001B[32m   1243\u001B[39m \u001B[43m    \u001B[49m\u001B[43mmatch\u001B[49m\u001B[43m=\u001B[49m\u001B[43mmatch\u001B[49m\u001B[43m,\u001B[49m\n\u001B[32m   1244\u001B[39m \u001B[43m    \u001B[49m\u001B[43mheader\u001B[49m\u001B[43m=\u001B[49m\u001B[43mheader\u001B[49m\u001B[43m,\u001B[49m\n\u001B[32m   1245\u001B[39m \u001B[43m    \u001B[49m\u001B[43mindex_col\u001B[49m\u001B[43m=\u001B[49m\u001B[43mindex_col\u001B[49m\u001B[43m,\u001B[49m\n\u001B[32m   1246\u001B[39m \u001B[43m    \u001B[49m\u001B[43mskiprows\u001B[49m\u001B[43m=\u001B[49m\u001B[43mskiprows\u001B[49m\u001B[43m,\u001B[49m\n\u001B[32m   1247\u001B[39m \u001B[43m    \u001B[49m\u001B[43mparse_dates\u001B[49m\u001B[43m=\u001B[49m\u001B[43mparse_dates\u001B[49m\u001B[43m,\u001B[49m\n\u001B[32m   1248\u001B[39m \u001B[43m    \u001B[49m\u001B[43mthousands\u001B[49m\u001B[43m=\u001B[49m\u001B[43mthousands\u001B[49m\u001B[43m,\u001B[49m\n\u001B[32m   1249\u001B[39m \u001B[43m    \u001B[49m\u001B[43mattrs\u001B[49m\u001B[43m=\u001B[49m\u001B[43mattrs\u001B[49m\u001B[43m,\u001B[49m\n\u001B[32m   1250\u001B[39m \u001B[43m    \u001B[49m\u001B[43mencoding\u001B[49m\u001B[43m=\u001B[49m\u001B[43mencoding\u001B[49m\u001B[43m,\u001B[49m\n\u001B[32m   1251\u001B[39m \u001B[43m    \u001B[49m\u001B[43mdecimal\u001B[49m\u001B[43m=\u001B[49m\u001B[43mdecimal\u001B[49m\u001B[43m,\u001B[49m\n\u001B[32m   1252\u001B[39m \u001B[43m    \u001B[49m\u001B[43mconverters\u001B[49m\u001B[43m=\u001B[49m\u001B[43mconverters\u001B[49m\u001B[43m,\u001B[49m\n\u001B[32m   1253\u001B[39m \u001B[43m    \u001B[49m\u001B[43mna_values\u001B[49m\u001B[43m=\u001B[49m\u001B[43mna_values\u001B[49m\u001B[43m,\u001B[49m\n\u001B[32m   1254\u001B[39m \u001B[43m    \u001B[49m\u001B[43mkeep_default_na\u001B[49m\u001B[43m=\u001B[49m\u001B[43mkeep_default_na\u001B[49m\u001B[43m,\u001B[49m\n\u001B[32m   1255\u001B[39m \u001B[43m    \u001B[49m\u001B[43mdisplayed_only\u001B[49m\u001B[43m=\u001B[49m\u001B[43mdisplayed_only\u001B[49m\u001B[43m,\u001B[49m\n\u001B[32m   1256\u001B[39m \u001B[43m    \u001B[49m\u001B[43mextract_links\u001B[49m\u001B[43m=\u001B[49m\u001B[43mextract_links\u001B[49m\u001B[43m,\u001B[49m\n\u001B[32m   1257\u001B[39m \u001B[43m    \u001B[49m\u001B[43mdtype_backend\u001B[49m\u001B[43m=\u001B[49m\u001B[43mdtype_backend\u001B[49m\u001B[43m,\u001B[49m\n\u001B[32m   1258\u001B[39m \u001B[43m    \u001B[49m\u001B[43mstorage_options\u001B[49m\u001B[43m=\u001B[49m\u001B[43mstorage_options\u001B[49m\u001B[43m,\u001B[49m\n\u001B[32m   1259\u001B[39m \u001B[43m\u001B[49m\u001B[43m)\u001B[49m\n",
      "\u001B[36mFile \u001B[39m\u001B[32m~\\AppData\\Local\\Programs\\Python\\Python312\\Lib\\site-packages\\pandas\\io\\html.py:1003\u001B[39m, in \u001B[36m_parse\u001B[39m\u001B[34m(flavor, io, match, attrs, encoding, displayed_only, extract_links, storage_options, **kwargs)\u001B[39m\n\u001B[32m   1001\u001B[39m \u001B[38;5;28;01melse\u001B[39;00m:\n\u001B[32m   1002\u001B[39m     \u001B[38;5;28;01massert\u001B[39;00m retained \u001B[38;5;129;01mis\u001B[39;00m \u001B[38;5;129;01mnot\u001B[39;00m \u001B[38;5;28;01mNone\u001B[39;00m  \u001B[38;5;66;03m# for mypy\u001B[39;00m\n\u001B[32m-> \u001B[39m\u001B[32m1003\u001B[39m     \u001B[38;5;28;01mraise\u001B[39;00m retained\n\u001B[32m   1005\u001B[39m ret = []\n\u001B[32m   1006\u001B[39m \u001B[38;5;28;01mfor\u001B[39;00m table \u001B[38;5;129;01min\u001B[39;00m tables:\n",
      "\u001B[36mFile \u001B[39m\u001B[32m~\\AppData\\Local\\Programs\\Python\\Python312\\Lib\\site-packages\\pandas\\io\\html.py:983\u001B[39m, in \u001B[36m_parse\u001B[39m\u001B[34m(flavor, io, match, attrs, encoding, displayed_only, extract_links, storage_options, **kwargs)\u001B[39m\n\u001B[32m    972\u001B[39m p = parser(\n\u001B[32m    973\u001B[39m     io,\n\u001B[32m    974\u001B[39m     compiled_match,\n\u001B[32m   (...)\u001B[39m\u001B[32m    979\u001B[39m     storage_options,\n\u001B[32m    980\u001B[39m )\n\u001B[32m    982\u001B[39m \u001B[38;5;28;01mtry\u001B[39;00m:\n\u001B[32m--> \u001B[39m\u001B[32m983\u001B[39m     tables = \u001B[43mp\u001B[49m\u001B[43m.\u001B[49m\u001B[43mparse_tables\u001B[49m\u001B[43m(\u001B[49m\u001B[43m)\u001B[49m\n\u001B[32m    984\u001B[39m \u001B[38;5;28;01mexcept\u001B[39;00m \u001B[38;5;167;01mValueError\u001B[39;00m \u001B[38;5;28;01mas\u001B[39;00m caught:\n\u001B[32m    985\u001B[39m     \u001B[38;5;66;03m# if `io` is an io-like object, check if it's seekable\u001B[39;00m\n\u001B[32m    986\u001B[39m     \u001B[38;5;66;03m# and try to rewind it before trying the next parser\u001B[39;00m\n\u001B[32m    987\u001B[39m     \u001B[38;5;28;01mif\u001B[39;00m \u001B[38;5;28mhasattr\u001B[39m(io, \u001B[33m\"\u001B[39m\u001B[33mseekable\u001B[39m\u001B[33m\"\u001B[39m) \u001B[38;5;129;01mand\u001B[39;00m io.seekable():\n",
      "\u001B[36mFile \u001B[39m\u001B[32m~\\AppData\\Local\\Programs\\Python\\Python312\\Lib\\site-packages\\pandas\\io\\html.py:249\u001B[39m, in \u001B[36m_HtmlFrameParser.parse_tables\u001B[39m\u001B[34m(self)\u001B[39m\n\u001B[32m    241\u001B[39m \u001B[38;5;28;01mdef\u001B[39;00m\u001B[38;5;250m \u001B[39m\u001B[34mparse_tables\u001B[39m(\u001B[38;5;28mself\u001B[39m):\n\u001B[32m    242\u001B[39m \u001B[38;5;250m    \u001B[39m\u001B[33;03m\"\"\"\u001B[39;00m\n\u001B[32m    243\u001B[39m \u001B[33;03m    Parse and return all tables from the DOM.\u001B[39;00m\n\u001B[32m    244\u001B[39m \n\u001B[32m   (...)\u001B[39m\u001B[32m    247\u001B[39m \u001B[33;03m    list of parsed (header, body, footer) tuples from tables.\u001B[39;00m\n\u001B[32m    248\u001B[39m \u001B[33;03m    \"\"\"\u001B[39;00m\n\u001B[32m--> \u001B[39m\u001B[32m249\u001B[39m     tables = \u001B[38;5;28;43mself\u001B[39;49m\u001B[43m.\u001B[49m\u001B[43m_parse_tables\u001B[49m\u001B[43m(\u001B[49m\u001B[38;5;28;43mself\u001B[39;49m\u001B[43m.\u001B[49m\u001B[43m_build_doc\u001B[49m\u001B[43m(\u001B[49m\u001B[43m)\u001B[49m\u001B[43m,\u001B[49m\u001B[43m \u001B[49m\u001B[38;5;28;43mself\u001B[39;49m\u001B[43m.\u001B[49m\u001B[43mmatch\u001B[49m\u001B[43m,\u001B[49m\u001B[43m \u001B[49m\u001B[38;5;28;43mself\u001B[39;49m\u001B[43m.\u001B[49m\u001B[43mattrs\u001B[49m\u001B[43m)\u001B[49m\n\u001B[32m    250\u001B[39m     \u001B[38;5;28;01mreturn\u001B[39;00m (\u001B[38;5;28mself\u001B[39m._parse_thead_tbody_tfoot(table) \u001B[38;5;28;01mfor\u001B[39;00m table \u001B[38;5;129;01min\u001B[39;00m tables)\n",
      "\u001B[36mFile \u001B[39m\u001B[32m~\\AppData\\Local\\Programs\\Python\\Python312\\Lib\\site-packages\\pandas\\io\\html.py:598\u001B[39m, in \u001B[36m_BeautifulSoupHtml5LibFrameParser._parse_tables\u001B[39m\u001B[34m(self, document, match, attrs)\u001B[39m\n\u001B[32m    596\u001B[39m tables = document.find_all(element_name, attrs=attrs)\n\u001B[32m    597\u001B[39m \u001B[38;5;28;01mif\u001B[39;00m \u001B[38;5;129;01mnot\u001B[39;00m tables:\n\u001B[32m--> \u001B[39m\u001B[32m598\u001B[39m     \u001B[38;5;28;01mraise\u001B[39;00m \u001B[38;5;167;01mValueError\u001B[39;00m(\u001B[33m\"\u001B[39m\u001B[33mNo tables found\u001B[39m\u001B[33m\"\u001B[39m)\n\u001B[32m    600\u001B[39m result = []\n\u001B[32m    601\u001B[39m unique_tables = \u001B[38;5;28mset\u001B[39m()\n",
      "\u001B[31mValueError\u001B[39m: No tables found"
     ]
    }
   ],
   "execution_count": 16
  },
  {
   "metadata": {},
   "cell_type": "code",
   "outputs": [],
   "execution_count": null,
   "source": [
    "#for link in all_box_scores_links:\n",
    "#    data = requests.get(link)\n",
    "#    goalie_stats = pd.read_html(data.text, match='Goalies Table')\n",
    "\n",
    "\n",
    "#link = all_box_scores_links[0]\n",
    "#data = requests.get(link)\n",
    "#data = StringIO(data.text)\n",
    "#v_goalie_stats = pd.read_html(data, match='Goalies Table')[0]   # visitor team's goalie stats\n",
    "#h_goalie_stats = pd.read_html(data, match='Goalies Table')[1]   # home team's goalie stats"
   ],
   "id": "d7f0200b2d74cc00"
  }
 ],
 "metadata": {
  "kernelspec": {
   "display_name": "Python 3",
   "language": "python",
   "name": "python3"
  },
  "language_info": {
   "codemirror_mode": {
    "name": "ipython",
    "version": 2
   },
   "file_extension": ".py",
   "mimetype": "text/x-python",
   "name": "python",
   "nbconvert_exporter": "python",
   "pygments_lexer": "ipython2",
   "version": "2.7.6"
  }
 },
 "nbformat": 4,
 "nbformat_minor": 5
}
