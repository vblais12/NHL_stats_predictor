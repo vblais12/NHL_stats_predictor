{
 "cells": [
  {
   "cell_type": "code",
   "id": "initial_id",
   "metadata": {
    "collapsed": true
   },
   "source": [
    "import pandas as pd\n",
    "\n",
    "data = pd.read_csv('games.csv', index_col=0)"
   ],
   "outputs": [],
   "execution_count": null
  },
  {
   "metadata": {},
   "cell_type": "code",
   "source": [
    "# Cleaning / getting data ready for machine learning\n",
    "data['venue'] = data['venue'].map({'Home' : 1, 'Away' : 0})     # convert venue to 1's and 0's"
   ],
   "id": "7892c36d59dcb9b5",
   "outputs": [],
   "execution_count": null
  },
  {
   "metadata": {},
   "cell_type": "code",
   "source": "data",
   "id": "93d232b208ce6add",
   "outputs": [],
   "execution_count": null
  },
  {
   "metadata": {},
   "cell_type": "code",
   "source": [
    "data['Opponent'] = data['Opponent'].astype('category').cat.codes      # opponent is now represented by a number\n",
    "data"
   ],
   "id": "27b155edfbbcce56",
   "outputs": [],
   "execution_count": null
  },
  {
   "metadata": {},
   "cell_type": "code",
   "source": [
    "games = data.drop(columns=['Time'], inplace=False)\n",
    "games"
   ],
   "id": "1e92f810b84adb41",
   "outputs": [],
   "execution_count": null
  },
  {
   "metadata": {},
   "cell_type": "code",
   "source": [
    "# Dropping data for Arizona Coyotes (not a team anymore)\n",
    "games = games[games[\"Team\"] != \"Arizona Coyotes\"]"
   ],
   "id": "bac5d96c5199c1bf",
   "outputs": [],
   "execution_count": null
  },
  {
   "metadata": {},
   "cell_type": "code",
   "source": [
    "training = games[games['Date'] < '2024-04-19']  # Training using 2021-2024 data\n",
    "testing = games[games['Date'] > '2024-04-19']   # Testing on most recent season (2024-2025)\n",
    "\n",
    "import xgboost as xgb"
   ],
   "id": "b6bb04735693d38f",
   "outputs": [],
   "execution_count": null
  },
  {
   "metadata": {},
   "cell_type": "code",
   "source": [
    "from xgboost import XGBClassifier\n",
    "\n",
    "model = XGBClassifier(random_state=10)"
   ],
   "id": "8fd045f0fa967258",
   "outputs": [],
   "execution_count": null
  },
  {
   "metadata": {},
   "cell_type": "code",
   "source": [
    "# Defining search space for GridSearchCV\n",
    "search_grid = {\n",
    "    'n_estimators' : [50, 100, 200, 500],\n",
    "    'max_depth' : [3, 6, 9],\n",
    "    'learning_rate' : [0.001, 0.01, 0.1],\n",
    "    'reg_alpha': [0, 0.1, 1, 5, 10],\n",
    "    'reg_lambda': [0.1, 1, 5, 10, 20],\n",
    "\n",
    "}"
   ],
   "id": "babae63dad0066d8",
   "outputs": [],
   "execution_count": null
  },
  {
   "metadata": {},
   "cell_type": "code",
   "source": "games",
   "id": "10a2a6b923915f1a",
   "outputs": [],
   "execution_count": null
  },
  {
   "metadata": {},
   "cell_type": "code",
   "source": [
    "# Computing rolling averages\n",
    "games_o = games.groupby(\"Team\")\n",
    "team = games_o.get_group(\"Anaheim Ducks\").sort_values(\"Date\")\n",
    "\n",
    "def rolling_averages(team, cols, new_cols):\n",
    "    team = team.sort_values(\"Date\")    # Getting team data organized chronologically\n",
    "    rolling = team[cols].rolling(3, closed='left').mean()   # closed=left to ignore current row in sliding window\n",
    "    team[new_cols] = rolling\n",
    "    team = team.dropna(subset=new_cols) # dropping first rows because not enough data\n",
    "    return team\n"
   ],
   "id": "7382b1873c351dec",
   "outputs": [],
   "execution_count": null
  },
  {
   "metadata": {},
   "cell_type": "code",
   "source": "team",
   "id": "50282d58a0bc0012",
   "outputs": [],
   "execution_count": null
  },
  {
   "metadata": {},
   "cell_type": "code",
   "source": [
    "cols = ['G', 'GA', 'S', 'S%', 'SV%', 'PIM']   # wanted columns for rolling\n",
    "new_cols = [f\"{c}_rolling\" for c in cols]"
   ],
   "id": "1b92d73a4ff2adfb",
   "outputs": [],
   "execution_count": null
  },
  {
   "metadata": {},
   "cell_type": "code",
   "source": [
    "games_data = games.groupby('Team').apply(lambda x: rolling_averages(x, cols, new_cols))\n",
    "games_data = games_data.droplevel(\"Team\")\n",
    "games_data"
   ],
   "id": "da008ec9ee6e34d1",
   "outputs": [],
   "execution_count": null
  },
  {
   "metadata": {},
   "cell_type": "code",
   "source": [
    "# Making sure number of games dropped add up\n",
    "# Dropped 3 games for 33 teams (32 + Utah Hockey club added last season). Expecting 99\n",
    "print(f\"Number of rows before: {games.shape[0]}\")\n",
    "print(f\"Number of rows after: {games_data.shape[0]}\")\n",
    "print(f\"Rows removed: {(games.shape[0]) - (games_data.shape[0])}\")"
   ],
   "id": "4527d58ceeb4256a",
   "outputs": [],
   "execution_count": null
  },
  {
   "metadata": {},
   "cell_type": "code",
   "source": [
    "games_data.index = range(games_data.shape[0])  # fixing index level\n",
    "games_data"
   ],
   "id": "d113bce70123e10a",
   "outputs": [],
   "execution_count": null
  },
  {
   "metadata": {},
   "cell_type": "code",
   "source": [
    "from sklearn.model_selection import GridSearchCV\n",
    "\n",
    "GS = GridSearchCV(\n",
    "    estimator = model,\n",
    "    param_grid = search_grid,\n",
    "    scoring = [\"accuracy\"],\n",
    "    refit = \"accuracy\",\n",
    "    cv = 5,\n",
    "    verbose= 4\n",
    ")"
   ],
   "id": "aca8ed1acabe74c4",
   "outputs": [],
   "execution_count": null
  },
  {
   "metadata": {},
   "cell_type": "code",
   "source": [
    "training = games_data[games_data['Date'] < '2024-04-19']  # Training using 2021-2024 data\n",
    "testing = games_data[games_data['Date'] > '2024-04-19']   # Testing on most recent season (2024-2025)\n"
   ],
   "id": "fc354bda8b42719b",
   "outputs": [],
   "execution_count": null
  },
  {
   "metadata": {},
   "cell_type": "code",
   "source": [
    "# Dropping 'Date' column because not needed anymore\n",
    "training = training.drop(columns=['Date'])\n",
    "testing = testing.drop(columns=['Date'])"
   ],
   "id": "71c972f86bdce59c",
   "outputs": [],
   "execution_count": null
  },
  {
   "metadata": {},
   "cell_type": "code",
   "source": [
    "# Getting training setup\n",
    "x_train = training.drop(columns=['Result', 'Team'])\n",
    "y_train = training['Result']\n",
    "\n",
    "# Getting testing setup\n",
    "x_test = testing.drop(columns=['Result', 'Team'])\n",
    "y_test = testing['Result']"
   ],
   "id": "eab744815f74a20f",
   "outputs": [],
   "execution_count": null
  },
  {
   "metadata": {},
   "cell_type": "code",
   "source": "GS.fit(x_train, y_train)",
   "id": "eeeac0379924c40",
   "outputs": [],
   "execution_count": null
  },
  {
   "metadata": {},
   "cell_type": "code",
   "source": "GS.best_score_",
   "id": "3bd1cae074c9a50d",
   "outputs": [],
   "execution_count": null
  },
  {
   "metadata": {},
   "cell_type": "code",
   "source": "actual_model = GS.best_estimator_",
   "id": "3ec7a422866ce29e",
   "outputs": [],
   "execution_count": null
  },
  {
   "metadata": {},
   "cell_type": "code",
   "source": "predictions = actual_model.predict(x_test)",
   "id": "920d8cb0af8dad0b",
   "outputs": [],
   "execution_count": null
  },
  {
   "metadata": {},
   "cell_type": "code",
   "source": "combined = pd.DataFrame(dict(actual=y_test, predicted=predictions), index = x_test.index)",
   "id": "f148333e3ac11372",
   "outputs": [],
   "execution_count": null
  },
  {
   "metadata": {},
   "cell_type": "code",
   "source": "combined",
   "id": "f5514b326b25ba53",
   "outputs": [],
   "execution_count": null
  },
  {
   "metadata": {},
   "cell_type": "code",
   "source": "combined = combined.merge(games_data[['Date', 'Team', 'Opponent']], left_index=True, right_index=True)",
   "id": "87b72c1fd98b96f1",
   "outputs": [],
   "execution_count": null
  },
  {
   "metadata": {},
   "cell_type": "code",
   "source": "combined",
   "id": "dcf3d72613ca810e",
   "outputs": [],
   "execution_count": null
  },
  {
   "metadata": {},
   "cell_type": "code",
   "source": "test = combined[combined['actual'] != combined['predicted']]",
   "id": "f2759e0c544d102a",
   "outputs": [],
   "execution_count": null
  },
  {
   "metadata": {},
   "cell_type": "code",
   "source": "test",
   "id": "aacf73158e8a4df4",
   "outputs": [],
   "execution_count": null
  },
  {
   "metadata": {},
   "cell_type": "code",
   "source": "x_train",
   "id": "6ecf3119d388fb63",
   "outputs": [],
   "execution_count": null
  },
  {
   "metadata": {},
   "cell_type": "code",
   "source": "y_train",
   "id": "e8fffe735e9bf9b0",
   "outputs": [],
   "execution_count": null
  },
  {
   "metadata": {},
   "cell_type": "code",
   "source": [
    "from sklearn.metrics import classification_report, confusion_matrix\n",
    "\n",
    "print(classification_report(y_test, predictions))\n",
    "print(confusion_matrix(y_test, predictions))"
   ],
   "id": "a94c54dd1a3cab1b",
   "outputs": [],
   "execution_count": null
  },
  {
   "metadata": {},
   "cell_type": "code",
   "source": [
    "import numpy as np\n",
    "y_train_shuffled = np.random.permutation(y_train)\n",
    "GS.fit(x_train, y_train_shuffled)"
   ],
   "id": "427ea0c065acf97d",
   "outputs": [],
   "execution_count": null
  },
  {
   "metadata": {},
   "cell_type": "code",
   "source": "GS.best_score_",
   "id": "4f5f4b5d1db2fa2",
   "outputs": [],
   "execution_count": null
  },
  {
   "metadata": {},
   "cell_type": "code",
   "source": "",
   "id": "393191aa85c4a4ea",
   "outputs": [],
   "execution_count": null
  }
 ],
 "metadata": {
  "kernelspec": {
   "display_name": "Python 3",
   "language": "python",
   "name": "python3"
  },
  "language_info": {
   "codemirror_mode": {
    "name": "ipython",
    "version": 2
   },
   "file_extension": ".py",
   "mimetype": "text/x-python",
   "name": "python",
   "nbconvert_exporter": "python",
   "pygments_lexer": "ipython2",
   "version": "2.7.6"
  }
 },
 "nbformat": 4,
 "nbformat_minor": 5
}
