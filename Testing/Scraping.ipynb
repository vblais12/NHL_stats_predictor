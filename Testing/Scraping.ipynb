{
 "cells": [
  {
   "metadata": {},
   "cell_type": "code",
   "source": [
    "import os\n",
    "\n",
    "CACHE_DIR = r\"C:\\Users\\vikto\\OneDrive\\Bureau\\Cache\"\n"
   ],
   "id": "f980f21d96409ff4",
   "outputs": [],
   "execution_count": null
  },
  {
   "metadata": {},
   "cell_type": "code",
   "source": [
    "import requests\n",
    "\n",
    "seasons = [str(s) for s in range(2022,2026)]\n"
   ],
   "id": "f529c2cd86bb2f36",
   "outputs": [],
   "execution_count": null
  },
  {
   "metadata": {},
   "cell_type": "code",
   "source": [
    "base_url = \"https://www.hockey-reference.com\"\n",
    "schedule_links = [f\"{base_url}/leagues/NHL_{season}_games.html\" for season in seasons]\n",
    "\n",
    "headers = {\n",
    "    \"User-Agent\": \"Mozilla/5.0 (Windows NT 10.0; Win64; x64) AppleWebKit/537.36 (KHTML, like Gecko) Chrome/138.0.0.0 Safari/537.36 Edg/138.0.0.0\",\n",
    "    \"Accept-Language\": \"en-US,en;q=0.9\",\n",
    "    \"Referer\": \"https://www.google.com/\"\n",
    "}\n",
    "\n",
    "import time\n",
    "import hashlib\n",
    "\n",
    "# Takes URL --> file name for caching\n",
    "def url_to_file(url):\n",
    "    return hashlib.md5(url.encode('utf-8')).hexdigest() + '.html'\n",
    "\n",
    "# Function to get html from a page. Checks cache first, else fetches page then caches\n",
    "def get_page(url, headers=None):\n",
    "\n",
    "    file = url_to_file(url)\n",
    "    filename = os.path.join(CACHE_DIR, file)\n",
    "\n",
    "    if os.path.exists(filename):\n",
    "        with open(filename, 'r', encoding='utf-8') as f:\n",
    "            print('File already cached!')\n",
    "            return f.read()\n",
    "\n",
    "    print(f\"File not cached --> Fetching {url}...\")\n",
    "    page = requests.get(url, headers)\n",
    "    time.sleep(3.1)\n",
    "    if page.status_code == 200:\n",
    "        print(f\"Successfully fetched page, now caching...\")\n",
    "        with open(filename, 'w', encoding='utf-8') as f:\n",
    "            f.write(page.text)\n",
    "            time.sleep(0.4)\n",
    "            print(f\"File Cached. Excellent. Moving right along...\")\n",
    "        return page.text\n",
    "    else:\n",
    "        print(f\"Couldn't download page. Status code: {page.status_code}\")\n",
    "        print(f\"Retry-after: {page.headers.get('Retry-After')}\")\n",
    "        return None\n",
    "\n",
    "\n",
    "\n",
    "\n",
    "\n"
   ],
   "id": "72503d46383a8e11",
   "outputs": [],
   "execution_count": null
  },
  {
   "metadata": {},
   "cell_type": "code",
   "source": [
    "import pandas as pd\n",
    "from pandas.errors import SettingWithCopyWarning\n",
    "import warnings\n",
    "warnings.filterwarnings(\"ignore\", category=SettingWithCopyWarning)\n",
    "from io import StringIO\n",
    "from bs4 import BeautifulSoup\n",
    "import time\n",
    "\n",
    "all_games = []\n",
    "all_box_scores_links = []\n",
    "\n",
    "# Grabs data from each season's page (including box scores links for each game)\n",
    "for season in schedule_links:\n",
    "    data = get_page(season, headers)\n",
    "    soup = BeautifulSoup(data)\n",
    "    data = StringIO(data)\n",
    "    games = pd.read_html(data, match='NHL Regular Season Schedule')\n",
    "    games = games[0]              # Dataframe\n",
    "    all_games.append(games)\n",
    "    box_scores_table = soup.find(id='games')  # Get table for box scores links\n",
    "    box_scores_links = [l.get(\"href\") for l in box_scores_table.find_all(\"a\")]    # Get all links\n",
    "    box_scores_links = [f\"{base_url}{l}\" for l in box_scores_links if l and \"boxscores/\" in l]   # Get absolute URLs\n",
    "    all_box_scores_links.extend(box_scores_links)\n",
    "    time.sleep(3)\n",
    "\n",
    "games = pd.concat(all_games)"
   ],
   "id": "a4aa6396c7056bc3",
   "outputs": [],
   "execution_count": null
  },
  {
   "metadata": {},
   "cell_type": "code",
   "source": [
    "|games = games.drop(['LOG', 'Unnamed: 6', 'Notes'], axis=1)    # dropping non-relevant columns\n",
    "games['Home Team Win'] = games['G.1'] > games['G']     # creating win column\n",
    "games['Home Team Win'] = games['Home Team Win'].astype(int)   # Converting all True/False to 1/0\n",
    "games.rename(columns={'G' : 'Visitor G', 'G.1' : 'Home G'}, inplace=True)\n"
   ],
   "id": "27aad27941fc94aa",
   "outputs": [],
   "execution_count": null
  },
  {
   "metadata": {},
   "cell_type": "code",
   "source": "games",
   "id": "c61852da46e3096d",
   "outputs": [],
   "execution_count": null
  },
  {
   "metadata": {},
   "cell_type": "code",
   "source": [
    "#all_box_scores_links\n",
    "print(f\"Length of box_scores_links: {len(all_box_scores_links)}\")\n",
    "print(f\"Length of games: {len(games)}\")"
   ],
   "id": "fb334482d873f24c",
   "outputs": [],
   "execution_count": null
  },
  {
   "metadata": {},
   "cell_type": "code",
   "source": "games.head()\n",
   "id": "70a3ccc0c0dbc1da",
   "outputs": [],
   "execution_count": null
  },
  {
   "metadata": {},
   "cell_type": "code",
   "source": [
    "# Cell for testing purposes\n",
    "from Data.team_abbreviations import team_map\n",
    "\n",
    "all_scores = []\n",
    "count = 0\n",
    "\n",
    "# Get box score data for each game\n",
    "for link in all_box_scores_links:\n",
    "    data = get_page(link)\n",
    "    soup = BeautifulSoup(data, 'html.parser')\n",
    "\n",
    "    box = soup.find('div', class_='scorebox')    # Finding scorebox to get names\n",
    "    teams = box.find_all('strong')\n",
    "    visitors = teams[0].text.strip()             # extracting visitor team's name\n",
    "    home = teams[1].text.strip()                 # extracting home team's name\n",
    "\n",
    "    visitors = team_map.get(visitors)            # Mapping to abbreviation\n",
    "    home = team_map.get(home)\n",
    "\n",
    "    data = StringIO(data)\n",
    "\n",
    "    # Getting scorebox tables\n",
    "    v_table = pd.read_html(data, attrs={'id' : f'{visitors}_skaters'}, header=1)[0]\n",
    "    h_table = pd.read_html(data, attrs={'id' : f'{home}_skaters'}, header=1)[0]\n",
    "\n",
    "    # Find row where the player name/index contains \"TOTAL\" and get the last one\n",
    "    v_stats_table = v_table[v_table.iloc[:, 1].str.contains('TOTAL', na=False)].iloc[[-1]]\n",
    "    h_stats_table = h_table[h_table.iloc[:, 1].str.contains('TOTAL', na=False)].iloc[[-1]]\n",
    "\n",
    "    # Only keeping relevant columns\n",
    "    v_stats_table = v_stats_table[['PIM', 'S', 'S%']]\n",
    "    h_stats_table = h_stats_table[['PIM', 'S', 'S%']]\n",
    "\n",
    "    # Renaming for processing later\n",
    "    v_stats_table.rename(columns={'PIM' : 'Visitors PIM', 'S' : 'Visitors S', 'S%' : 'Visitors S%'}, inplace=True)\n",
    "    h_stats_table.rename(columns={'PIM' : 'Home PIM', 'S' : 'Home S', 'S%' : 'Home S%'}, inplace=True)\n",
    "\n",
    "    # Resetting indices for concatenating\n",
    "    v_stats_table.reset_index(drop=True, inplace=True)\n",
    "    h_stats_table.reset_index(drop=True, inplace=True)\n",
    "\n",
    "    # Concatenating both tables\n",
    "    final_table = pd.concat([v_stats_table, h_stats_table], axis=1)\n",
    "\n",
    "    all_scores.append(final_table)\n",
    "    count = count + 1\n",
    "    print(count)\n",
    "\n",
    "\n"
   ],
   "id": "2c16e72ebf541a6d",
   "outputs": [],
   "execution_count": null
  },
  {
   "metadata": {},
   "cell_type": "code",
   "source": [
    "print(len(all_scores))\n",
    "scores = pd.concat(all_scores)\n",
    "scores"
   ],
   "id": "6b8d60c43052f95e",
   "outputs": [],
   "execution_count": null
  },
  {
   "metadata": {},
   "cell_type": "code",
   "source": [
    "# Combine & Renaming columns\n",
    "combined_games = pd.concat([games.reset_index(drop=True), scores.reset_index(drop=True)], axis=1)\n",
    "combined_games.rename(columns={'Visitor' : 'Opponent', 'Visitor G' : 'GA', 'Visitors S' : 'SA', 'Visitors S%' : 'SA%'}, inplace=True)\n",
    "combined_games.rename(columns={'Visitors PIM' : 'Opponent PIM', 'Home G' : 'G', 'Home Team Win' : 'Win/Loss', 'Home PIM' : 'PIM', 'Home S' : 'S', 'Home S%': 'S%'}, inplace=True)\n",
    "\n",
    "combined_games"
   ],
   "id": "c59e1cac9668585d",
   "outputs": [],
   "execution_count": null
  },
  {
   "metadata": {},
   "cell_type": "code",
   "source": [
    "all_data = []\n",
    "\n",
    "# Get goalie data for each game\n",
    "for link in all_box_scores_links:\n",
    "    data = get_page(link, headers=headers)\n",
    "    data = StringIO(data)\n",
    "    goalie_stats = pd.read_html(data, match='Goalies Table', header=1)   # List of tables (df)\n",
    "    v_goalie_stats = goalie_stats[0]   # First table is visitors\n",
    "    h_goalie_stats = goalie_stats[1]   # Second table is home\n",
    "\n",
    "\n",
    "    # Getting team's primary goalie\n",
    "    v_goalie_stats = v_goalie_stats[v_goalie_stats['Rk'] == 1]\n",
    "    h_goalie_stats = h_goalie_stats[h_goalie_stats['Rk'] == 1]\n",
    "\n",
    "    # Only keeping relevant columns\n",
    "    v_goalie_stats = v_goalie_stats[['SV%']]\n",
    "    h_goalie_stats = h_goalie_stats[['SV%']]\n",
    "\n",
    "    v_goalie_stats.rename(columns={'SV%' : 'Opponent SV%'}, inplace=True)\n",
    "\n",
    "    goalie_stats = pd.concat([h_goalie_stats, v_goalie_stats], axis=1)\n",
    "\n",
    "    all_data.append(goalie_stats)\n",
    "\n",
    "\n"
   ],
   "id": "d7f0200b2d74cc00",
   "outputs": [],
   "execution_count": null
  },
  {
   "metadata": {},
   "cell_type": "code",
   "source": [
    "# Adding goalie stats to main dataframe\n",
    "goalie_s = pd.concat(all_data)\n",
    "all_matches = pd.concat([combined_games.reset_index(drop=True), goalie_s.reset_index(drop=True)], axis=1)\n",
    "all_matches"
   ],
   "id": "33815929940737ed",
   "outputs": [],
   "execution_count": null
  },
  {
   "metadata": {},
   "cell_type": "code",
   "source": [
    "# Changing columns order for clarity\n",
    "wanted_order = ['Date', 'Time', 'Home', 'Opponent', 'Att.', 'G', 'GA', 'S', 'S%', 'SV%', 'PIM', 'SA', 'SA%', 'Opponent SV%', 'Opponent PIM', 'Win/Loss']\n",
    "\n",
    "all_matches = all_matches[wanted_order]\n",
    "all_matches"
   ],
   "id": "5624c7f808677319",
   "outputs": [],
   "execution_count": null
  },
  {
   "metadata": {},
   "cell_type": "code",
   "source": [
    "# Re-organizing the Dataframe to be from a team's perspective rather than 1 row/game\n",
    "\n",
    "home = all_matches.copy()\n",
    "home.rename(columns={'Home' : 'Team', 'Win/Loss' : 'Result'}, inplace=True)\n",
    "home['venue'] = 'Home'\n",
    "\n",
    "away = all_matches.copy()\n",
    "away['Team'] = away['Opponent']\n",
    "away['Opponent'] = away['Home']\n",
    "away['venue'] = 'Away'\n",
    "\n",
    "# Flip home team/away stats to be from the away team's perspective\n",
    "away['G'], away['GA'] = away['GA'], away['G']\n",
    "away['S'], away['SA'] = away['SA'], away['S']\n",
    "away['S%'], away['SA%'] = away['SA%'], away['S%']\n",
    "away['SV%'], away['Opponent SV%'] = away['Opponent SV%'], away['SV%']\n",
    "away['PIM'], away['Opponent PIM'] = away['Opponent PIM'], away['PIM']\n",
    "away['Win/Loss'] = away['Win/Loss'].apply(lambda x: 1 - x)\n",
    "away.rename(columns={'Win/Loss' : 'Result'}, inplace=True)\n",
    "home\n",
    "\n"
   ],
   "id": "4d179b081a0f895e",
   "outputs": [],
   "execution_count": null
  },
  {
   "metadata": {},
   "cell_type": "code",
   "source": [
    "# Cleaning / Rearranging data for ML\n",
    "combined = pd.concat([home, away], ignore_index=True)\n",
    "combined = combined.drop(columns=['Home'])\n",
    "combined = combined.sort_values(by=['Team']).reset_index(drop=True)\n",
    "combined"
   ],
   "id": "d21e5bfd67bfb8ee",
   "outputs": [],
   "execution_count": null
  },
  {
   "metadata": {},
   "cell_type": "code",
   "source": [
    "# Moving venue column (for readability)\n",
    "\n",
    "columns = combined.columns.tolist()\n",
    "columns.remove('venue')\n",
    "columns.insert(columns.index('Opponent') + 1, 'venue')\n",
    "\n",
    "combined = combined[columns]\n",
    "combined\n"
   ],
   "id": "609d56ec6e344e37",
   "outputs": [],
   "execution_count": null
  },
  {
   "metadata": {},
   "cell_type": "code",
   "source": "games['Date'] = pd.to_datetime(games['Date'])",
   "id": "aa4e737660539e6e",
   "outputs": [],
   "execution_count": null
  },
  {
   "metadata": {},
   "cell_type": "code",
   "source": [
    "combined_sorted = combined.sort_values(by=['Team', 'Date']).reset_index(drop=True)\n",
    "combined_sorted"
   ],
   "id": "9c3d7206ab7e8de6",
   "outputs": [],
   "execution_count": null
  },
  {
   "metadata": {},
   "cell_type": "code",
   "source": [
    "# Saving as CSV\n",
    "combined.to_csv('data.csv')"
   ],
   "id": "da25e4161ac7de1",
   "outputs": [],
   "execution_count": null
  },
  {
   "metadata": {},
   "cell_type": "code",
   "source": [
    "import pandas as pd\n",
    "data = pd.read_csv('games.csv')\n",
    "data"
   ],
   "id": "dc4b700049a724f2",
   "outputs": [],
   "execution_count": null
  },
  {
   "metadata": {},
   "cell_type": "code",
   "source": [
    "\n",
    "from bs4 import Comment\n",
    "\n",
    "from selenium import webdriver\n",
    "from selenium.webdriver.edge.service import Service as EdgeService\n",
    "from selenium.webdriver.common.by import By\n",
    "from selenium.webdriver.support.ui import WebDriverWait\n",
    "from selenium.webdriver.support import expected_conditions as EC\n",
    "import pandas as pd\n",
    "from Data.team_abbreviations import team_map\n",
    "from io import StringIO\n",
    "\n",
    "edge_driver_path = r\"C:\\Users\\vikto\\Downloads\\edgedriver_win64\\msedgedriver.exe\"\n",
    "service = EdgeService(executable_path=edge_driver_path)\n",
    "driver = webdriver.Edge(service=service)\n",
    "\n",
    "\n",
    "all_adv = []\n",
    "counter = 0\n",
    "\n",
    "for link in all_box_scores_links:\n",
    "\n",
    "    edge_driver_path = r\"C:\\Users\\vikto\\Downloads\\edgedriver_win64\\msedgedriver.exe\"\n",
    "    service = EdgeService(executable_path=edge_driver_path)\n",
    "    driver = webdriver.Edge(service=service)\n",
    "\n",
    "    data = get_page(link)\n",
    "    soup = BeautifulSoup(data, 'html.parser')\n",
    "\n",
    "    box = soup.find('div', class_='scorebox')    # Finding scorebox to get names\n",
    "    teams = box.find_all('strong')\n",
    "    visitors = teams[0].text.strip()             # extracting visitor team's name\n",
    "    home = teams[1].text.strip()                 # extracting home team's name\n",
    "\n",
    "    visitors = team_map.get(visitors)            # Mapping to abbreviation\n",
    "    home = team_map.get(home)\n",
    "\n",
    "    url = link\n",
    "    driver.get(url)\n",
    "    wait = WebDriverWait(driver, 2)\n",
    "\n",
    "    vis = driver.find_element(By.ID, f'{visitors}_adv_ALLAll')\n",
    "    home = driver.find_element(By.ID, f'{home}_adv_ALLAll')\n",
    "\n",
    "    vis_table = vis.get_attribute('outerHTML')\n",
    "    home_table = home.get_attribute('outerHTML')\n",
    "\n",
    "    vis_table = StringIO(vis_table)\n",
    "    home_table = StringIO(home_table)\n",
    "\n",
    "    vis_df = pd.read_html(vis_table)[0]\n",
    "    home_df = pd.read_html(home_table)[0]\n",
    "\n",
    "    vis_df = vis_df[['SAT‑F', 'SAT‑A', 'CF%', 'oZS%']]\n",
    "    home_df = home_df[['SAT‑F', 'SAT‑A', 'CF%', 'oZS%']]\n",
    "\n",
    "    vis_df.rename(columns={'SAT‑F' : 'Opponent SAT‑F', 'SAT‑A' : 'Opponent SAT‑A', 'CF%' : 'Opponent CF%', 'oZS%' : 'Opponent oZS%'}, inplace=True)\n",
    "\n",
    "    final = pd.concat([vis_df, home_df], axis=1)\n",
    "\n",
    "    all_adv.append(final)\n",
    "    counter = counter + 1\n",
    "    print(counter)\n",
    "    driver.quit()\n",
    "\n",
    "\n",
    "\n"
   ],
   "id": "b7563d3ef4d2d6c9",
   "outputs": [],
   "execution_count": null
  },
  {
   "metadata": {},
   "cell_type": "code",
   "source": "data",
   "id": "42d20560c83aa6c1",
   "outputs": [],
   "execution_count": null
  },
  {
   "metadata": {},
   "cell_type": "code",
   "source": [
    "data_sorted = data.sort_values(by=['Date', 'Time', 'Team']).reset_index(drop=True)\n",
    "data_sorted"
   ],
   "id": "5ee97aecb155b95b",
   "outputs": [],
   "execution_count": null
  },
  {
   "metadata": {},
   "cell_type": "code",
   "source": [
    "url = 'https://www.naturalstattrick.com/games.php?fromseason=20212022&thruseason=20232024&stype=2&sit=all&loc=B&team=All&rate=n'\n",
    "\n",
    "import pandas as pd\n",
    "from io import StringIO\n",
    "\n",
    "data = get_page(url)\n",
    "data = StringIO(data)\n",
    "\n",
    "table1 = pd.read_html(data, attrs={'id' : 'teams'})[0]\n",
    "table1"
   ],
   "id": "f54c91039858e8cc",
   "outputs": [],
   "execution_count": null
  },
  {
   "metadata": {},
   "cell_type": "code",
   "source": [
    "|url2 = 'https://www.naturalstattrick.com/games.php?fromseason=20242025&thruseason=20242025&stype=2&sit=all&loc=B&team=All&rate=n'\n",
    "\n",
    "html = get_page(url2)\n",
    "html = StringIO(html)\n",
    "\n",
    "table2 = pd.read_html(html, attrs={'id' : 'teams'})[0]\n",
    "table2"
   ],
   "id": "77800f0905276e2e",
   "outputs": [],
   "execution_count": null
  },
  {
   "metadata": {},
   "cell_type": "code",
   "source": [
    "all_data = pd.concat([table1, table2], ignore_index=True)\n",
    "all_data"
   ],
   "id": "a0eac0d85fe7c40",
   "outputs": [],
   "execution_count": null
  },
  {
   "metadata": {},
   "cell_type": "code",
   "source": [
    "def format_opponent(df):\n",
    "    df = df.copy()\n",
    "    df['Opponent'] = df.groupby('Game')['Team'].transform(lambda x: x[::-1].values)\n",
    "    return df\n",
    "\n",
    "formatted_data = format_opponent(all_data)\n",
    "formatted_data"
   ],
   "id": "c456e54b12d39ffd",
   "outputs": [],
   "execution_count": null
  },
  {
   "metadata": {},
   "cell_type": "code",
   "source": [
    "formatted_data['Date'] = formatted_data['Game'].str.extract(r'(^\\d{4}-\\d{2}-\\d{2})')  # extracting data from the Game column\n",
    "formatted_data['Date'] = pd.to_datetime(formatted_data['Date'])\n",
    "formatted_data.drop(columns=['Game', 'Unnamed: 2'], inplace=True)\n",
    "formatted_data"
   ],
   "id": "33a1e5e71f73edf9",
   "outputs": [],
   "execution_count": null
  },
  {
   "metadata": {},
   "cell_type": "code",
   "source": [
    "formatted_data['Result'] = formatted_data['GF'] > formatted_data['GA']\n",
    "formatted_data['Result'] = formatted_data['Result'].astype(int)\n",
    "formatted_data"
   ],
   "id": "96a4eebbe709f974",
   "outputs": [],
   "execution_count": null
  },
  {
   "metadata": {},
   "cell_type": "code",
   "source": "formatted_data.to_csv('newdata.csv')",
   "id": "14cd207c50b40546",
   "outputs": [],
   "execution_count": null
  },
  {
   "metadata": {},
   "cell_type": "code",
   "source": "",
   "id": "f359214bfbadc13e",
   "outputs": [],
   "execution_count": null
  }
 ],
 "metadata": {
  "kernelspec": {
   "display_name": "Python 3",
   "language": "python",
   "name": "python3"
  },
  "language_info": {
   "codemirror_mode": {
    "name": "ipython",
    "version": 2
   },
   "file_extension": ".py",
   "mimetype": "text/x-python",
   "name": "python",
   "nbconvert_exporter": "python",
   "pygments_lexer": "ipython2",
   "version": "2.7.6"
  }
 },
 "nbformat": 4,
 "nbformat_minor": 5
}
